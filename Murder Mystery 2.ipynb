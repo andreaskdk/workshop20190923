{
 "cells": [
  {
   "cell_type": "markdown",
   "metadata": {},
   "source": [
    "# Murder Mystery 2\n",
    "\n",
    "In December 1948 the dead body of a man was found near Adelaide, Australia. To this day his identity is unknown and his death is still a mystery. One of the only clues recovered to what happened is a small piece of paper with the words \"Tamam Shud\" written on it. The piece has turned out to be torn from the last page of the book \"Rubaiyat\" by Omar Khayyam. The police managed to find the copy of the book from which the piece was torn. This book had some letters written inside the cover:\n",
    "\n",
    "**WRGOABABD**\n",
    "\n",
    "**MLIAOI**\n",
    "\n",
    "**WTBIMPANETP**\n",
    "\n",
    "**MLIABOAIAQC**\n",
    "\n",
    "**ITTMTSAMSTGAB**\n",
    "\n",
    "The second line seems to have been crossed out. The similarity to the penultimate line could suggest that it was a mistake.\n",
    "\n",
    "What does this mean? Is it some kind of code?\n",
    "\n",
    "![Tamam Shud](https://storage.googleapis.com/big-data-course-datasets/Actual-tamam-shud.jpg)\n",
    "\n",
    "![Code](https://storage.googleapis.com/big-data-course-datasets/SomertonManCode.jpg)"
   ]
  },
  {
   "cell_type": "code",
   "execution_count": 1,
   "metadata": {},
   "outputs": [],
   "source": [
    "code=[\"WRGOABABD\",\n",
    "#\"MLIAOI\",\n",
    "\"WTBIMPANETP\",\n",
    "\"MLIABOAIAQC\",\n",
    "\"ITTMTSAMSTGAB\"]"
   ]
  },
  {
   "cell_type": "markdown",
   "metadata": {},
   "source": [
    "The goal of this exercise is to look for sentences in the world literature that matches as long parts of the code as possible."
   ]
  },
  {
   "cell_type": "code",
   "execution_count": 11,
   "metadata": {},
   "outputs": [],
   "source": [
    "from scipy import stats\n",
    "import numpy as np\n",
    "import pandas as pd\n",
    "import string\n",
    "\n",
    "books = spark.sparkContext.wholeTextFiles(\"gs://big-data-course-datasets/gutenberg/\")\n",
    "sentences = books.flatMap(lambda x: x[1].replace(\"\\n\", \" \").split(\".\")).map(lambda x: x.strip()).cache()"
   ]
  },
  {
   "cell_type": "code",
   "execution_count": null,
   "metadata": {},
   "outputs": [],
   "source": []
  }
 ],
 "metadata": {
  "kernelspec": {
   "display_name": "PySpark",
   "language": "python",
   "name": "pyspark"
  },
  "language_info": {
   "codemirror_mode": {
    "name": "ipython",
    "version": 3
   },
   "file_extension": ".py",
   "mimetype": "text/x-python",
   "name": "python",
   "nbconvert_exporter": "python",
   "pygments_lexer": "ipython3",
   "version": "3.6.5"
  }
 },
 "nbformat": 4,
 "nbformat_minor": 2
}
