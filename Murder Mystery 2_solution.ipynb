{
 "cells": [
  {
   "cell_type": "markdown",
   "metadata": {},
   "source": [
    "# Murder Mystery 2\n",
    "\n",
    "In December 1948 the dead body of a man was found near Adelaide, Australia. To this day his identity is unknown and his death is still a mystery. One of the only clues recovered to what happened is a small piece of paper with the words \"Tamam Shud\" written on it. The piece has turned out to be torn from the last page of the book \"Rubaiyat\" by Omar Khayyam. The police managed to find the copy of the book from which the piece was torn. This book had some letters written inside the cover:\n",
    "\n",
    "**WRGOABABD**\n",
    "\n",
    "**MLIAOI**\n",
    "\n",
    "**WTBIMPANETP**\n",
    "\n",
    "**MLIABOAIAQC**\n",
    "\n",
    "**ITTMTSAMSTGAB**\n",
    "\n",
    "The second line seems to have been crossed out. The similarity to the penultimate line could suggest that it was a mistake.\n",
    "\n",
    "What does this mean? Is it some kind of code?\n",
    "\n",
    "![Tamam Shud](https://storage.googleapis.com/big-data-course-datasets/Actual-tamam-shud.jpg)\n",
    "\n",
    "![Code](https://storage.googleapis.com/big-data-course-datasets/SomertonManCode.jpg)"
   ]
  },
  {
   "cell_type": "code",
   "execution_count": 1,
   "metadata": {},
   "outputs": [],
   "source": [
    "code=[\"WRGOABABD\",\n",
    "#\"MLIAOI\",\n",
    "\"WTBIMPANETP\",\n",
    "\"MLIABOAIAQC\",\n",
    "\"ITTMTSAMSTGAB\"]"
   ]
  },
  {
   "cell_type": "markdown",
   "metadata": {},
   "source": [
    "The goal of this exercise is to look for sentences in the world literature that matches as long parts of the code as possible."
   ]
  },
  {
   "cell_type": "code",
   "execution_count": 2,
   "metadata": {},
   "outputs": [],
   "source": [
    "from scipy import stats\n",
    "import numpy as np\n",
    "import pandas as pd\n",
    "import string\n",
    "\n",
    "books = spark.sparkContext.wholeTextFiles(\"gs://big-data-course-datasets/gutenberg/\")\n",
    "sentences = books.flatMap(lambda x: x[1].replace(\"\\n\", \" \").replace(\"\\r\", \" \").split(\".\")).map(lambda x: x.strip()).cache()"
   ]
  },
  {
   "cell_type": "code",
   "execution_count": 3,
   "metadata": {},
   "outputs": [],
   "source": [
    "def sentenceToCode(s):\n",
    "    return \"\".join( \\\n",
    "            filter(lambda x: x in string.ascii_uppercase, \\\n",
    "            map(lambda x: x.upper()[0], \\\n",
    "            filter(lambda x: len(x)>0, s.split(\" \")))))"
   ]
  },
  {
   "cell_type": "markdown",
   "metadata": {},
   "source": [
    "One approach to solving this is to use SparkSQL to create a table that we can query with SQL."
   ]
  },
  {
   "cell_type": "code",
   "execution_count": 4,
   "metadata": {},
   "outputs": [],
   "source": [
    "from pyspark.sql import Row\n",
    "\n",
    "df=sentences.map(lambda x: Row(sentence=x, code=sentenceToCode(x))).toDF()"
   ]
  },
  {
   "cell_type": "code",
   "execution_count": 5,
   "metadata": {},
   "outputs": [
    {
     "data": {
      "text/html": [
       "<div>\n",
       "<style scoped>\n",
       "    .dataframe tbody tr th:only-of-type {\n",
       "        vertical-align: middle;\n",
       "    }\n",
       "\n",
       "    .dataframe tbody tr th {\n",
       "        vertical-align: top;\n",
       "    }\n",
       "\n",
       "    .dataframe thead th {\n",
       "        text-align: right;\n",
       "    }\n",
       "</style>\n",
       "<table border=\"1\" class=\"dataframe\">\n",
       "  <thead>\n",
       "    <tr style=\"text-align: right;\">\n",
       "      <th></th>\n",
       "      <th>code</th>\n",
       "      <th>sentence</th>\n",
       "    </tr>\n",
       "  </thead>\n",
       "  <tbody>\n",
       "    <tr>\n",
       "      <td>0</td>\n",
       "      <td>LRCDNMTMM</td>\n",
       "      <td>\"This little rectory CAN do no more than make Mr</td>\n",
       "    </tr>\n",
       "    <tr>\n",
       "      <td>1</td>\n",
       "      <td>WTIAOKODHIWNDYHPTW</td>\n",
       "      <td>Well THAT is an odd kind of delicacy!  However...</td>\n",
       "    </tr>\n",
       "    <tr>\n",
       "      <td>2</td>\n",
       "      <td>ATCWHGUTLPOMDWAOTP</td>\n",
       "      <td>All the children who had given  up their littl...</td>\n",
       "    </tr>\n",
       "  </tbody>\n",
       "</table>\n",
       "</div>"
      ],
      "text/plain": [
       "                 code                                           sentence\n",
       "0           LRCDNMTMM   \"This little rectory CAN do no more than make Mr\n",
       "1  WTIAOKODHIWNDYHPTW  Well THAT is an odd kind of delicacy!  However...\n",
       "2  ATCWHGUTLPOMDWAOTP  All the children who had given  up their littl..."
      ]
     },
     "execution_count": 5,
     "metadata": {},
     "output_type": "execute_result"
    }
   ],
   "source": [
    "df.sample(False, 0.0001).toPandas()"
   ]
  },
  {
   "cell_type": "code",
   "execution_count": 6,
   "metadata": {},
   "outputs": [],
   "source": [
    "df.registerTempTable(\"sentences\")"
   ]
  },
  {
   "cell_type": "code",
   "execution_count": 7,
   "metadata": {},
   "outputs": [
    {
     "data": {
      "text/html": [
       "<div>\n",
       "<style scoped>\n",
       "    .dataframe tbody tr th:only-of-type {\n",
       "        vertical-align: middle;\n",
       "    }\n",
       "\n",
       "    .dataframe tbody tr th {\n",
       "        vertical-align: top;\n",
       "    }\n",
       "\n",
       "    .dataframe thead th {\n",
       "        text-align: right;\n",
       "    }\n",
       "</style>\n",
       "<table border=\"1\" class=\"dataframe\">\n",
       "  <thead>\n",
       "    <tr style=\"text-align: right;\">\n",
       "      <th></th>\n",
       "      <th>code</th>\n",
       "      <th>sentence</th>\n",
       "    </tr>\n",
       "  </thead>\n",
       "  <tbody>\n",
       "    <tr>\n",
       "      <td>0</td>\n",
       "      <td>KJBTOTOTKJBTFBOMCGITBGCTHATE</td>\n",
       "      <td>[The King James Bible]  The Old Testament of t...</td>\n",
       "    </tr>\n",
       "    <tr>\n",
       "      <td>1</td>\n",
       "      <td>ATEWWFAVADWUTFOTD</td>\n",
       "      <td>1:2 And the earth was without form, and void; ...</td>\n",
       "    </tr>\n",
       "    <tr>\n",
       "      <td>2</td>\n",
       "      <td>ATSOGMUTFOTW</td>\n",
       "      <td>And the Spirit of God moved upon the face of t...</td>\n",
       "    </tr>\n",
       "    <tr>\n",
       "      <td>3</td>\n",
       "      <td>AGSLTBLATWL</td>\n",
       "      <td>1:3 And God said, Let there be light: and ther...</td>\n",
       "    </tr>\n",
       "    <tr>\n",
       "      <td>4</td>\n",
       "      <td>AGSTLTIWGAGDTLFTD</td>\n",
       "      <td>1:4 And God saw the light, that it was good: a...</td>\n",
       "    </tr>\n",
       "    <tr>\n",
       "      <td>5</td>\n",
       "      <td>AGCTLDATDHCN</td>\n",
       "      <td>1:5 And God called the light Day, and the dark...</td>\n",
       "    </tr>\n",
       "    <tr>\n",
       "      <td>6</td>\n",
       "      <td>ATEATMWTFD</td>\n",
       "      <td>And the evening and the morning were the first...</td>\n",
       "    </tr>\n",
       "    <tr>\n",
       "      <td>7</td>\n",
       "      <td>AGSLTBAFITMOTWALIDTWFTW</td>\n",
       "      <td>1:6 And God said, Let there be a firmament in ...</td>\n",
       "    </tr>\n",
       "    <tr>\n",
       "      <td>8</td>\n",
       "      <td>AGMTFADTWWWUTFFTWWWATFAIWS</td>\n",
       "      <td>1:7 And God made the firmament, and divided th...</td>\n",
       "    </tr>\n",
       "    <tr>\n",
       "      <td>9</td>\n",
       "      <td>AGCTFH</td>\n",
       "      <td>1:8 And God called the firmament Heaven</td>\n",
       "    </tr>\n",
       "  </tbody>\n",
       "</table>\n",
       "</div>"
      ],
      "text/plain": [
       "                           code  \\\n",
       "0  KJBTOTOTKJBTFBOMCGITBGCTHATE   \n",
       "1             ATEWWFAVADWUTFOTD   \n",
       "2                  ATSOGMUTFOTW   \n",
       "3                   AGSLTBLATWL   \n",
       "4             AGSTLTIWGAGDTLFTD   \n",
       "5                  AGCTLDATDHCN   \n",
       "6                    ATEATMWTFD   \n",
       "7       AGSLTBAFITMOTWALIDTWFTW   \n",
       "8    AGMTFADTWWWUTFFTWWWATFAIWS   \n",
       "9                        AGCTFH   \n",
       "\n",
       "                                            sentence  \n",
       "0  [The King James Bible]  The Old Testament of t...  \n",
       "1  1:2 And the earth was without form, and void; ...  \n",
       "2  And the Spirit of God moved upon the face of t...  \n",
       "3  1:3 And God said, Let there be light: and ther...  \n",
       "4  1:4 And God saw the light, that it was good: a...  \n",
       "5  1:5 And God called the light Day, and the dark...  \n",
       "6  And the evening and the morning were the first...  \n",
       "7  1:6 And God said, Let there be a firmament in ...  \n",
       "8  1:7 And God made the firmament, and divided th...  \n",
       "9            1:8 And God called the firmament Heaven  "
      ]
     },
     "execution_count": 7,
     "metadata": {},
     "output_type": "execute_result"
    }
   ],
   "source": [
    "spark.sql(\"SELECT * FROM sentences LIMIT 10\").toPandas()"
   ]
  },
  {
   "cell_type": "code",
   "execution_count": 8,
   "metadata": {},
   "outputs": [
    {
     "data": {
      "text/html": [
       "<div>\n",
       "<style scoped>\n",
       "    .dataframe tbody tr th:only-of-type {\n",
       "        vertical-align: middle;\n",
       "    }\n",
       "\n",
       "    .dataframe tbody tr th {\n",
       "        vertical-align: top;\n",
       "    }\n",
       "\n",
       "    .dataframe thead th {\n",
       "        text-align: right;\n",
       "    }\n",
       "</style>\n",
       "<table border=\"1\" class=\"dataframe\">\n",
       "  <thead>\n",
       "    <tr style=\"text-align: right;\">\n",
       "      <th></th>\n",
       "      <th>code</th>\n",
       "      <th>sentence</th>\n",
       "    </tr>\n",
       "  </thead>\n",
       "  <tbody>\n",
       "    <tr>\n",
       "      <td>0</td>\n",
       "      <td>MLIASDNMAST</td>\n",
       "      <td>Miss  Laura, I am sure, did not mean any such ...</td>\n",
       "    </tr>\n",
       "  </tbody>\n",
       "</table>\n",
       "</div>"
      ],
      "text/plain": [
       "          code                                           sentence\n",
       "0  MLIASDNMAST  Miss  Laura, I am sure, did not mean any such ..."
      ]
     },
     "execution_count": 8,
     "metadata": {},
     "output_type": "execute_result"
    }
   ],
   "source": [
    "spark.sql(\"SELECT * FROM sentences WHERE code LIKE 'MLIA%'\").toPandas()"
   ]
  },
  {
   "cell_type": "code",
   "execution_count": null,
   "metadata": {},
   "outputs": [],
   "source": []
  }
 ],
 "metadata": {
  "kernelspec": {
   "display_name": "PySpark",
   "language": "python",
   "name": "pyspark"
  },
  "language_info": {
   "codemirror_mode": {
    "name": "ipython",
    "version": 3
   },
   "file_extension": ".py",
   "mimetype": "text/x-python",
   "name": "python",
   "nbconvert_exporter": "python",
   "pygments_lexer": "ipython3",
   "version": "3.6.5"
  }
 },
 "nbformat": 4,
 "nbformat_minor": 2
}
