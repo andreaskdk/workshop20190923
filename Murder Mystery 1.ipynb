{
 "cells": [
  {
   "cell_type": "markdown",
   "metadata": {},
   "source": [
    "# Murder Mystery Tamam Shud\n",
    "\n",
    "In December 1948 the dead body of a man was found near Adelaide, Australia. To this day his identity is unknown and his death is still a mystery. One of the only clues recovered to what happened is a small piece of paper with the words \"Tamam Shud\" written on it. The piece has turned out to be torn from the last page of the book \"Rubaiyat\" by Omar Khayyam. The police managed to find the copy of the book from which the piece was torn. This book had some letters written inside the cover:\n",
    "\n",
    "**WRGOABABD**\n",
    "\n",
    "**MLIAOI**\n",
    "\n",
    "**WTBIMPANETP**\n",
    "\n",
    "**MLIABOAIAQC**\n",
    "\n",
    "**ITTMTSAMSTGAB**\n",
    "\n",
    "The second line seems to have been crossed out. The similarity to the penultimate line could suggest that it was a mistake.\n",
    "\n",
    "What does this mean? Is it some kind of code?\n",
    "\n",
    "![Tamam Shud](https://storage.googleapis.com/big-data-course-datasets/Actual-tamam-shud.jpg)\n",
    "\n",
    "![Code](https://storage.googleapis.com/big-data-course-datasets/SomertonManCode.jpg)"
   ]
  },
  {
   "cell_type": "code",
   "execution_count": 25,
   "metadata": {},
   "outputs": [],
   "source": [
    "code=[\"WRGOABABD\",\n",
    "#\"MLIAOI\",\n",
    "\"WTBIMPANETP\",\n",
    "\"MLIABOAIAQC\",\n",
    "\"ITTMTSAMSTGAB\"]"
   ]
  },
  {
   "cell_type": "code",
   "execution_count": 26,
   "metadata": {},
   "outputs": [],
   "source": [
    "from scipy import stats\n",
    "import numpy as np\n",
    "import pandas as pd"
   ]
  },
  {
   "cell_type": "code",
   "execution_count": 27,
   "metadata": {},
   "outputs": [],
   "source": [
    "books=spark.sparkContext.textFile(\"gs://big-data-course-datasets/gutenberg/\").cache()"
   ]
  },
  {
   "cell_type": "code",
   "execution_count": 28,
   "metadata": {},
   "outputs": [],
   "source": [
    "import string\n",
    "\n",
    "counts=books.flatMap(lambda x: x.replace(\",\", \"\").split()) \\\n",
    "    .filter(lambda x: len(x)>0) \\\n",
    "    .map(lambda x: x[0].upper()) \\\n",
    "    .filter(lambda x: x in string.ascii_uppercase) \\\n",
    "    .map(lambda x: (x, 1)) \\\n",
    "    .reduceByKey(lambda x,y: x+y) \\\n",
    "    .collect()"
   ]
  },
  {
   "cell_type": "code",
   "execution_count": 30,
   "metadata": {},
   "outputs": [
    {
     "data": {
      "text/plain": [
       "[('C', 73345),\n",
       " ('N', 48820),\n",
       " ('H', 151054),\n",
       " ('Y', 32791),\n",
       " ('X', 100),\n",
       " ('W', 137955),\n",
       " ('S', 162160),\n",
       " ('O', 130771),\n",
       " ('D', 55619),\n",
       " ('K', 14483),\n",
       " ('J', 13206),\n",
       " ('G', 40746),\n",
       " ('A', 242153),\n",
       " ('V', 12893),\n",
       " ('F', 78982),\n",
       " ('M', 91287),\n",
       " ('R', 34603),\n",
       " ('P', 53167),\n",
       " ('Q', 3571),\n",
       " ('B', 97838),\n",
       " ('T', 347977),\n",
       " ('L', 56497),\n",
       " ('I', 128541),\n",
       " ('E', 41718),\n",
       " ('U', 31154),\n",
       " ('Z', 1058)]"
      ]
     },
     "execution_count": 30,
     "metadata": {},
     "output_type": "execute_result"
    }
   ],
   "source": [
    "counts"
   ]
  },
  {
   "cell_type": "code",
   "execution_count": 31,
   "metadata": {},
   "outputs": [],
   "source": [
    "book_frequencies=np.zeros(len(string.ascii_uppercase))\n",
    "for key in dict(counts).keys():\n",
    "    book_frequencies[string.ascii_uppercase.index(key)]+=dict(counts)[key]\n",
    "    \n",
    "book_frequencies=book_frequencies/sum(book_frequencies)"
   ]
  },
  {
   "cell_type": "code",
   "execution_count": 32,
   "metadata": {},
   "outputs": [],
   "source": [
    "code_frequencies=np.zeros(len(string.ascii_uppercase))\n",
    "for letter in \"\".join(code):\n",
    "    code_frequencies[string.ascii_uppercase.index(letter)]+=1\n"
   ]
  },
  {
   "cell_type": "code",
   "execution_count": 33,
   "metadata": {},
   "outputs": [],
   "source": [
    "data=pd.DataFrame(data={\"letter\": list(string.ascii_uppercase), \n",
    "                   \"book_freq\": book_frequencies, \n",
    "                   \"code_freq\": code_frequencies})\n",
    "\n",
    "data[\"expected_freq_book\"]=data[\"code_freq\"].sum()*data[\"book_freq\"]"
   ]
  },
  {
   "cell_type": "code",
   "execution_count": 34,
   "metadata": {},
   "outputs": [
    {
     "data": {
      "text/plain": [
       "<matplotlib.axes._subplots.AxesSubplot at 0x7f1a68754780>"
      ]
     },
     "execution_count": 34,
     "metadata": {},
     "output_type": "execute_result"
    },
    {
     "data": {
      "image/png": "[encoded data removed]",
      "text/plain": [
       "<Figure size 432x288 with 1 Axes>"
      ]
     },
     "metadata": {
      "needs_background": "light"
     },
     "output_type": "display_data"
    }
   ],
   "source": [
    "import seaborn as sns\n",
    "\n",
    "sns.barplot(x=\"letter\", \n",
    "            y=\"val\",\n",
    "            hue=\"frequencies\",\n",
    "            data=data[[\"letter\", \"code_freq\", \"expected_freq_book\"]].melt(id_vars=[\"letter\"], var_name=\"frequencies\", value_name=\"val\"))"
   ]
  },
  {
   "cell_type": "code",
   "execution_count": 35,
   "metadata": {},
   "outputs": [
    {
     "data": {
      "text/plain": [
       "Power_divergenceResult(statistic=30.940002102352494, pvalue=0.1910131742960432)"
      ]
     },
     "execution_count": 35,
     "metadata": {},
     "output_type": "execute_result"
    }
   ],
   "source": [
    "stats.chisquare(data[\"code_freq\"], data[\"expected_freq_book\"])"
   ]
  },
  {
   "cell_type": "code",
   "execution_count": 36,
   "metadata": {},
   "outputs": [
    {
     "data": {
      "text/plain": [
       "Power_divergenceResult(statistic=4697.0, pvalue=0.0)"
      ]
     },
     "execution_count": 36,
     "metadata": {},
     "output_type": "execute_result"
    }
   ],
   "source": [
    "stats.chisquare(data[\"code_freq\"], np.ones(len(data))/len(data))"
   ]
  },
  {
   "cell_type": "markdown",
   "metadata": {},
   "source": [
    "So the frequencies of the code fits the starting letters of words in English. But, perhaps, it is not the starting letters, but some mutations of words. How well does the code fit the general usage of letters in the English language?\n",
    "\n",
    "To answer this, redo the calculation of the letter frequencies, but this time take all letters into account, not just the start of each word."
   ]
  },
  {
   "cell_type": "code",
   "execution_count": 29,
   "metadata": {},
   "outputs": [],
   "source": [
    "#counts=books.flatMap(lambda x: x.replace(\",\", \"\").split()) \\\n",
    "#    .filter(lambda x: len(x)>0) \\\n",
    "#    .flatMap(lambda x: list(x.upper())) \\\n",
    "#    .filter(lambda x: x in string.ascii_uppercase) \\\n",
    "#    .map(lambda x: (x, 1)) \\\n",
    "#    .reduceByKey(lambda x,y: x+y) \\\n",
    "#    .collect()"
   ]
  }
 ],
 "metadata": {
  "kernelspec": {
   "display_name": "PySpark",
   "language": "python",
   "name": "pyspark"
  },
  "language_info": {
   "codemirror_mode": {
    "name": "ipython",
    "version": 3
   },
   "file_extension": ".py",
   "mimetype": "text/x-python",
   "name": "python",
   "nbconvert_exporter": "python",
   "pygments_lexer": "ipython3",
   "version": "3.6.5"
  }
 },
 "nbformat": 4,
 "nbformat_minor": 2
}
